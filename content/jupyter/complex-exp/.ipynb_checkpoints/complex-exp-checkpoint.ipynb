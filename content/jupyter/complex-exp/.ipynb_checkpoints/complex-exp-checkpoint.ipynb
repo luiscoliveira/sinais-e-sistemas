{
 "cells": [
  {
   "cell_type": "markdown",
   "metadata": {},
   "source": [
    "# A exponencial complexa\n",
    "\n",
    "_Luis Caldas de Oliveira_\n",
    "\n",
    "Este notebook apresenta a exponencial complexa e a sua utilização na representação de sinais."
   ]
  },
  {
   "cell_type": "markdown",
   "metadata": {},
   "source": [
    "A exponencial complexa tem um papel central d"
   ]
  }
 ],
 "metadata": {
  "jupytext": {
   "formats": "ipynb,md"
  },
  "kernelspec": {
   "display_name": "Python 3 (ipykernel)",
   "language": "python",
   "name": "python3"
  },
  "language_info": {
   "codemirror_mode": {
    "name": "ipython",
    "version": 3
   },
   "file_extension": ".py",
   "mimetype": "text/x-python",
   "name": "python",
   "nbconvert_exporter": "python",
   "pygments_lexer": "ipython3",
   "version": "3.7.11"
  }
 },
 "nbformat": 4,
 "nbformat_minor": 4
}
