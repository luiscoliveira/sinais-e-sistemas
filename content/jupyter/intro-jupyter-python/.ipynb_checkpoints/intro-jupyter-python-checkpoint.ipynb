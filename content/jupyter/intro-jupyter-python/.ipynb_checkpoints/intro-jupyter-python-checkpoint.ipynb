{
 "cells": [
  {
   "cell_type": "markdown",
   "metadata": {},
   "source": [
    "# Introdução ao Jupyter e ao Python\n",
    "\n",
    "Este notebook tem como objetivo explicar o que é um Jupyter notebook e fazer uma breve introdução à linguagem de programação Python."
   ]
  },
  {
   "cell_type": "markdown",
   "metadata": {},
   "source": [
    "## Jupyter Notebooks\n",
    "\n",
    "Um Jupyter Notebook é um ficheiro com extensão `.ipynb` que é composto por uma sequência de blocos denominados de células. Existem células de texto e células de código que podem ser editadas clicando nelas com o rato (as células de texto precisam de um duplo clique).\n",
    "\n",
    "### Células de código\n",
    "\n",
    "A célula seguinte é um exemplo de uma célula de código:"
   ]
  },
  {
   "cell_type": "code",
   "execution_count": 2,
   "metadata": {},
   "outputs": [
    {
     "name": "stdout",
     "output_type": "stream",
     "text": [
      "Célula de código\n"
     ]
    }
   ],
   "source": [
    "print (\"Célula de código\")"
   ]
  },
  {
   "cell_type": "markdown",
   "metadata": {},
   "source": [
    "Uma célula de código pode ser executada, sendo o resultado do da execução do código apresentado logo a seguir à célula. Para executar uma célula de código basta selecionar a célula e carregar em `Run` na barra de ferramentas no topo do notebook. Nessa barra existe também um botão com `+` que cria uma nova célula a seguir à célula atualmente ativa. A nova célula é, por omissão, uma célula de código que se identifica por ter à sua esquerda a sequência `In [ ]`. Depois de executada a célula de código é colocado um número no espaço entre os parênteses retos que indica a ordem em que as células foram executadas. A memória é persistente o que significa que, por exemplo, o valor das variáveis é mantido até à execução de outra célula e é independente da sua posição no notebook."
   ]
  },
  {
   "cell_type": "markdown",
   "metadata": {},
   "source": [
    "\n",
    "### Células de Texto\n",
    "\n",
    "Para mudar uma célula de código para uma célula de texto muda-se o seletor da barra de ferramentas de `Code` para `Markdown` indicando que o texto deve ser formatado de acordo com esta norma.\n",
    "\n",
    "Este é um exemplo de texto em Markdown:\n",
    "\n",
    "````\n",
    "# Título de nível 1\n",
    "## Título de nível 2\n",
    "### Título de nível 3\n",
    "\n",
    "Lista de items:\n",
    "- **primeiro em negrito**\n",
    "- *segundo em itálico*\n",
    "- _terceiro em itálico_\n",
    "\n",
    "Lista enumerada\n",
    "1. primeiro\n",
    "2. segundo\n",
    "3. terceiro\n",
    "\n",
    "variável `a` e segmento de código\n",
    "```\n",
    "print (\"segmento de código\")\n",
    "```\n",
    "````\n",
    "\n",
    "Após a execução da célula de texto com o comando `Run` o texto fica formatado assim:\n",
    "\n",
    "# Título de nível 1\n",
    "## Título de nível 2\n",
    "### Título de nível 3\n",
    "\n",
    "Lista de items:\n",
    "- **primeiro em negrito**\n",
    "- *segundo em itálico*\n",
    "- _terceiro em itálico_\n",
    "\n",
    "Lista enumerada\n",
    "1. primeiro\n",
    "2. segundo\n",
    "3. terceiro\n",
    "\n",
    "variável `a` e segmento de código\n",
    "```\n",
    "print (\"segmento de código\")\n",
    "```\n",
    "\n",
    "O interpretador de Markdown também aceita fórmula matemáticas em LaTeX. Por exemplo, a sequência:\n",
    "```\n",
    "Expressão no meio do texto $\\sqrt{2}$ ou equação matemática:\n",
    "$$ x = \\frac{-b \\pm \\sqrt{b^2 - 4 a c}}{2a} $$\n",
    "```\n",
    "Resulta em:\n",
    "\n",
    "Expressão no meio do texto $\\sqrt{2}$ ou equação matemática:\n",
    "$$ x = \\frac{-b \\pm \\sqrt{b^2 - 4 a c}}{2a} $$\n"
   ]
  },
  {
   "cell_type": "markdown",
   "metadata": {},
   "source": [
    "### Truques e atalhos do Jupyter\n",
    "\n",
    "É possível executar comandos do interpretador de comandos do computador (shell) numa célula de código usando o símbolo `!` antes do comando.\n",
    "Por exemplo para saber a diretoria atual:"
   ]
  },
  {
   "cell_type": "code",
   "execution_count": 3,
   "metadata": {},
   "outputs": [
    {
     "name": "stdout",
     "output_type": "stream",
     "text": [
      "/Users/lco/Google Drive/wrk-projects/ss-2022-23/ss-obsidian/jupyter/raised-cos\r\n"
     ]
    }
   ],
   "source": [
    "!pwd"
   ]
  },
  {
   "cell_type": "markdown",
   "metadata": {},
   "source": [
    "Pode-se também usar comandos especiais do iPython como o `%timeit`para medir o tempo de execução do código:"
   ]
  },
  {
   "cell_type": "code",
   "execution_count": null,
   "metadata": {},
   "outputs": [],
   "source": [
    "%timeit [x**2 for x in range(100)]"
   ]
  },
  {
   "cell_type": "markdown",
   "metadata": {},
   "source": [
    "Pode-se também usar `?` para obter ajuda sobre um comando:"
   ]
  },
  {
   "cell_type": "code",
   "execution_count": 5,
   "metadata": {},
   "outputs": [],
   "source": [
    "?print"
   ]
  },
  {
   "cell_type": "markdown",
   "metadata": {},
   "source": [
    "Também se pode usar o **Tab** para completar o texto ou **Shift-Tab** para obter uma ajuda rápida."
   ]
  },
  {
   "cell_type": "markdown",
   "metadata": {},
   "source": [
    "## Python Básico\n",
    "\n",
    "### Variáveis e operações básicas\n",
    "\n",
    "O Python segue as normas habituais para os operadores de atribuição (`=`), soma (`+`), subtração (`-`), multiplicação (`*`) e divisão (`/`). Em Python as variáveis não precisam de ser declaradas, assumindo o tipo adequado à atribuição que for feita."
   ]
  },
  {
   "cell_type": "code",
   "execution_count": 7,
   "metadata": {},
   "outputs": [
    {
     "name": "stdout",
     "output_type": "stream",
     "text": [
      "3   3.2   abcd\n"
     ]
    }
   ],
   "source": [
    "inteiro = 3\n",
    "real = 3.2\n",
    "cadeia = \"abcd\"\n",
    "print (inteiro, \" \", real, \" \", cadeia)"
   ]
  },
  {
   "cell_type": "markdown",
   "metadata": {},
   "source": [
    "Uma atribuição pode mudar o tipo da variável"
   ]
  },
  {
   "cell_type": "code",
   "execution_count": 9,
   "metadata": {},
   "outputs": [
    {
     "name": "stdout",
     "output_type": "stream",
     "text": [
      "abcd\n"
     ]
    }
   ],
   "source": [
    "real = cadeia\n",
    "print(real)"
   ]
  },
  {
   "cell_type": "markdown",
   "metadata": {},
   "source": [
    "Uma das coisas mais originais do Python é que a identação do código é a forma de expecificar um bloco.\n",
    "Por exemplo na instrução `if`, o código a executar no caso da condição ser verdadeira deve estar identado:"
   ]
  },
  {
   "cell_type": "code",
   "execution_count": 10,
   "metadata": {},
   "outputs": [
    {
     "name": "stdout",
     "output_type": "stream",
     "text": [
      "5 > 2\n"
     ]
    }
   ],
   "source": [
    "x, y = 5, 2\n",
    "if x > 2:\n",
    "    print (x, \">\", y)\n",
    "else:\n",
    "    print (x, \"<\", y)"
   ]
  },
  {
   "cell_type": "markdown",
   "metadata": {},
   "source": [
    "### Tipos de dados\n",
    "\n",
    "O Pyhthon tem 6 tipos de dados básicos: inteiros, números de vírgula flutuante, cadeias de carateres, listas, tuplos e dicionários.\n",
    "Os 3 primeiros são semelhantes a outras linguagens de programação mas os restantes necessitam de uma explicação adicional"
   ]
  },
  {
   "cell_type": "code",
   "execution_count": null,
   "metadata": {},
   "outputs": [],
   "source": [
    "#### Listas\n",
    "\n",
    "As listas são semelhantes aos vetores de outras linguagem mas em que cada elemento pode ter um tipo diferente.\n",
    "O Python permite por exemplo:"
   ]
  },
  {
   "cell_type": "code",
   "execution_count": 16,
   "metadata": {},
   "outputs": [
    {
     "name": "stdout",
     "output_type": "stream",
     "text": [
      "abcd\n"
     ]
    }
   ],
   "source": [
    "lista = [1, 2.1, \"abcd\"]\n",
    "print(lista[0])"
   ]
  },
  {
   "cell_type": "markdown",
   "metadata": {},
   "source": [
    "O primeiro elemento de uma lista tem o índice `0`. Pode-se obter o comprimento de uma lista com a função `len()`. Para imprimir o último elemento da lista pode-se fazer:"
   ]
  },
  {
   "cell_type": "code",
   "execution_count": 22,
   "metadata": {},
   "outputs": [
    {
     "name": "stdout",
     "output_type": "stream",
     "text": [
      "abcd\n"
     ]
    }
   ],
   "source": [
    "print(lista[len(lista)-1])"
   ]
  },
  {
   "cell_type": "code",
   "execution_count": null,
   "metadata": {},
   "outputs": [],
   "source": [
    "ou mais facilmente:"
   ]
  },
  {
   "cell_type": "code",
   "execution_count": null,
   "metadata": {},
   "outputs": [],
   "source": []
  }
 ],
 "metadata": {
  "jupytext": {
   "formats": "ipynb,md"
  },
  "kernelspec": {
   "display_name": "Python 3 (ipykernel)",
   "language": "python",
   "name": "python3"
  },
  "language_info": {
   "codemirror_mode": {
    "name": "ipython",
    "version": 3
   },
   "file_extension": ".py",
   "mimetype": "text/x-python",
   "name": "python",
   "nbconvert_exporter": "python",
   "pygments_lexer": "ipython3",
   "version": "3.7.11"
  }
 },
 "nbformat": 4,
 "nbformat_minor": 4
}
